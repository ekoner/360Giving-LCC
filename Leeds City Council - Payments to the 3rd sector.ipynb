{
 "cells": [
  {
   "cell_type": "code",
   "execution_count": 7,
   "metadata": {
    "collapsed": true
   },
   "outputs": [],
   "source": [
    "import glob\n",
    "import os\n",
    "import numpy as np\n",
    "import pandas as pd\n",
    "import datetime as dt\n",
    "from urllib.request import urlretrieve"
   ]
  },
  {
   "cell_type": "code",
   "execution_count": 8,
   "metadata": {
    "collapsed": true
   },
   "outputs": [],
   "source": [
    "urls ={}\n",
    "urls['2013_14']='https://aql.datapress.com/leeds/dataset/payments-to-the-3rd-sector/vcse.csv'\n",
    "urls['2014_15']='https://aql.datapress.com/leeds/dataset/payments-to-the-3rd-sector/2015-10-26T15:11:28/vcse.csv'\n",
    "urls['2015_16']='https://aql.datapress.com/leeds/dataset/payments-to-the-3rd-sector/2016-08-22T15:32:09/2015%2016.csv'\n",
    "\n",
    "# Excluded 2012_13 which uses a different template"
   ]
  },
  {
   "cell_type": "code",
   "execution_count": 9,
   "metadata": {
    "collapsed": true
   },
   "outputs": [],
   "source": [
    "# Download missing files\n",
    "for year, url in urls.items():\n",
    "    fname = year+'.csv'\n",
    "    if not os.path.isfile(fname):\n",
    "        urlretrieve(url, fname) "
   ]
  },
  {
   "cell_type": "code",
   "execution_count": 10,
   "metadata": {},
   "outputs": [
    {
     "data": {
      "text/html": [
       "<div>\n",
       "<table border=\"1\" class=\"dataframe\">\n",
       "  <thead>\n",
       "    <tr style=\"text-align: right;\">\n",
       "      <th></th>\n",
       "      <th>Funding Org:Name</th>\n",
       "      <th>OrganisationCode</th>\n",
       "      <th>Planned Dates:Start Date</th>\n",
       "      <th>Classifications:0:Title</th>\n",
       "      <th>Recipient Org:Name</th>\n",
       "      <th>Recipient Org:Identifier</th>\n",
       "      <th>Award Date</th>\n",
       "      <th>Identifier</th>\n",
       "      <th>Amount Awarded</th>\n",
       "      <th>Amount Disbursed</th>\n",
       "      <th>IrrecoverableVAT</th>\n",
       "      <th>Grant Programme:Title</th>\n",
       "      <th>Classifications:1:Title</th>\n",
       "    </tr>\n",
       "    <tr>\n",
       "      <th>File</th>\n",
       "      <th></th>\n",
       "      <th></th>\n",
       "      <th></th>\n",
       "      <th></th>\n",
       "      <th></th>\n",
       "      <th></th>\n",
       "      <th></th>\n",
       "      <th></th>\n",
       "      <th></th>\n",
       "      <th></th>\n",
       "      <th></th>\n",
       "      <th></th>\n",
       "      <th></th>\n",
       "    </tr>\n",
       "  </thead>\n",
       "  <tbody>\n",
       "    <tr>\n",
       "      <th>2015_16</th>\n",
       "      <td>OrganisationName</td>\n",
       "      <td>OrganisationCode</td>\n",
       "      <td>EffectiveDate</td>\n",
       "      <td>Directorate Service</td>\n",
       "      <td>SupplierName</td>\n",
       "      <td>Local Supplier Internal Reference</td>\n",
       "      <td>Payment Date</td>\n",
       "      <td>TransactionNumber</td>\n",
       "      <td>NetAmount</td>\n",
       "      <td>NetAmount2</td>\n",
       "      <td>Irrecoverable VAT</td>\n",
       "      <td>PurposeofSpend</td>\n",
       "      <td>Council Procurement Category</td>\n",
       "    </tr>\n",
       "    <tr>\n",
       "      <th>2014_15</th>\n",
       "      <td>OrganisationName</td>\n",
       "      <td>OrganisationCode</td>\n",
       "      <td>EffectiveDate</td>\n",
       "      <td>DirectorateService</td>\n",
       "      <td>SupplierName</td>\n",
       "      <td>LocalSupplierInternalReference</td>\n",
       "      <td>PaymentDate</td>\n",
       "      <td>TransactionNumber</td>\n",
       "      <td>NetAmount</td>\n",
       "      <td>NetAmount2</td>\n",
       "      <td>IrrecoverableVAT</td>\n",
       "      <td>PurposeOfSpend</td>\n",
       "      <td>CouncilProcurementCategoryName</td>\n",
       "    </tr>\n",
       "    <tr>\n",
       "      <th>2013_14</th>\n",
       "      <td>OrganisationName</td>\n",
       "      <td>OrganisationCode</td>\n",
       "      <td>EffectiveDate</td>\n",
       "      <td>DirectorateService</td>\n",
       "      <td>SupplierName</td>\n",
       "      <td>LocalSupplierInternalReference</td>\n",
       "      <td>PaymentDate</td>\n",
       "      <td>TransactionNumber</td>\n",
       "      <td>NetAmount</td>\n",
       "      <td>NetAmount2</td>\n",
       "      <td>IrrecoverableVAT</td>\n",
       "      <td>PurposeOfSpend</td>\n",
       "      <td>CouncilProcurementCategoryName</td>\n",
       "    </tr>\n",
       "  </tbody>\n",
       "</table>\n",
       "</div>"
      ],
      "text/plain": [
       "         Funding Org:Name  OrganisationCode Planned Dates:Start Date  \\\n",
       "File                                                                   \n",
       "2015_16  OrganisationName  OrganisationCode            EffectiveDate   \n",
       "2014_15  OrganisationName  OrganisationCode            EffectiveDate   \n",
       "2013_14  OrganisationName  OrganisationCode            EffectiveDate   \n",
       "\n",
       "        Classifications:0:Title Recipient Org:Name  \\\n",
       "File                                                 \n",
       "2015_16     Directorate Service       SupplierName   \n",
       "2014_15      DirectorateService       SupplierName   \n",
       "2013_14      DirectorateService       SupplierName   \n",
       "\n",
       "                  Recipient Org:Identifier    Award Date         Identifier  \\\n",
       "File                                                                          \n",
       "2015_16  Local Supplier Internal Reference  Payment Date  TransactionNumber   \n",
       "2014_15     LocalSupplierInternalReference   PaymentDate  TransactionNumber   \n",
       "2013_14     LocalSupplierInternalReference   PaymentDate  TransactionNumber   \n",
       "\n",
       "        Amount Awarded Amount Disbursed   IrrecoverableVAT  \\\n",
       "File                                                         \n",
       "2015_16      NetAmount       NetAmount2  Irrecoverable VAT   \n",
       "2014_15      NetAmount       NetAmount2   IrrecoverableVAT   \n",
       "2013_14      NetAmount       NetAmount2   IrrecoverableVAT   \n",
       "\n",
       "        Grant Programme:Title         Classifications:1:Title  \n",
       "File                                                           \n",
       "2015_16        PurposeofSpend    Council Procurement Category  \n",
       "2014_15        PurposeOfSpend  CouncilProcurementCategoryName  \n",
       "2013_14        PurposeOfSpend  CouncilProcurementCategoryName  "
      ]
     },
     "execution_count": 10,
     "metadata": {},
     "output_type": "execute_result"
    }
   ],
   "source": [
    "#Load headers\n",
    "xl = pd.ExcelFile('Leeds City Council - Payments to the 3rd sector - Column Headers.xlsx')\n",
    "dfHead = xl.parse('headers', index_col='File')\n",
    "dfHead"
   ]
  },
  {
   "cell_type": "code",
   "execution_count": 11,
   "metadata": {
    "scrolled": true
   },
   "outputs": [],
   "source": [
    "if not os.path.isdir('out'):\n",
    "    os.mkdir('out')\n",
    "    \n",
    "for fname in glob.glob('*.csv'):\n",
    "    iname = fname.split('.')[0]\n",
    "    df = pd.read_csv(fname, encoding='cp1252', dtype=object)\n",
    "    \n",
    "    df['NetAmount'] = pd.to_numeric(df['NetAmount'].str.replace(',', ''), errors='coerce')    \n",
    "    df['NetAmount2'] = df['NetAmount']    \n",
    "    sourceCols = dfHead.ix[[iname]].values.tolist()[0]\n",
    "    newCols = dfHead.columns.values.tolist()\n",
    "    df = df[sourceCols]\n",
    "    df.rename(columns=dict(zip(sourceCols, newCols)), inplace=True)\n",
    "    df = df[df.Identifier.notnull()]\n",
    "    df['Identifier'] = '360G-LCC-'+df['Identifier'].astype(str)\n",
    "    df['Recipient Org:Identifier'] = '360G-LCC-'+df['Recipient Org:Identifier'].astype(str)\n",
    "    df['Funding Org:Identifier'] = 'GB-LAE-LDS'\n",
    "    df['Award Date'] = pd.to_datetime(df['Award Date'], errors='coerce')\n",
    "    df['Award Date'] = df['Award Date'].dt.strftime('%Y-%m-%d').astype(str)\n",
    "    if 'Planned Dates:Start Date' in newCols:\n",
    "        df['Planned Dates:Start Date'] = pd.to_datetime(df['Planned Dates:Start Date'], errors='coerce')\n",
    "        df['Planned Dates:Start Date'] = df['Planned Dates:Start Date'].dt.strftime('%Y-%m-%d').astype(str)\n",
    "    df['Last modified'] = dt.date.strftime(dt.datetime.now(),'%Y-%m-%dT%H:%M:%SZ')\n",
    "    df['Data Source'] =  'https://datamillnorth.org/dataset/payments-to-the-3rd-sector'\n",
    "    df['Currency'] = 'GBP'\n",
    "    df['Title'] = 'Grant to ' + df['Recipient Org:Name'].astype(str)\n",
    "    df['Description'] = 'Grant to ' + df['Recipient Org:Name'].astype(str)\n",
    "    df = df[['Identifier', 'Title', 'Description', 'Award Date', 'Currency', 'Amount Awarded', 'Amount Disbursed', 'IrrecoverableVAT', 'Classifications:0:Title', 'Classifications:1:Title', 'Grant Programme:Title', 'Planned Dates:Start Date', 'Funding Org:Identifier', 'Funding Org:Name', 'OrganisationCode', 'Recipient Org:Identifier', 'Recipient Org:Name', 'Last modified', 'Data Source']]\n",
    "    df.to_csv(os.path.join('out','Leeds-City-Council-360Giving-'+fname),index=False)"
   ]
  }
 ],
 "metadata": {
  "kernelspec": {
   "display_name": "Python [default]",
   "language": "python",
   "name": "python3"
  },
  "language_info": {
   "codemirror_mode": {
    "name": "ipython",
    "version": 3
   },
   "file_extension": ".py",
   "mimetype": "text/x-python",
   "name": "python",
   "nbconvert_exporter": "python",
   "pygments_lexer": "ipython3",
   "version": "3.5.3"
  }
 },
 "nbformat": 4,
 "nbformat_minor": 2
}
